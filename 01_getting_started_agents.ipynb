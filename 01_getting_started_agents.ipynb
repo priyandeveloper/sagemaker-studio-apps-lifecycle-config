{
  "cells": [
    {
      "cell_type": "markdown",
      "metadata": {
        "id": "view-in-github",
        "colab_type": "text"
      },
      "source": [
        "<a href=\"https://colab.research.google.com/github/priyandeveloper/sagemaker-studio-apps-lifecycle-config/blob/main/01_getting_started_agents.ipynb\" target=\"_parent\"><img src=\"https://colab.research.google.com/assets/colab-badge.svg\" alt=\"Open In Colab\"/></a>"
      ]
    },
    {
      "cell_type": "markdown",
      "metadata": {
        "id": "Ui69KiXedaNJ"
      },
      "source": [
        "## **Introduction to Nexus AI**\n",
        "testing\n",
        "testing 2 testing 3\n",
        "\n",
        "Welcome to **Nexus AI** – the most comprehensive end-to-end AI platform! Whether you're a developer, engineer, or AI enthusiast, Nexus AI provides models, frameworks, tools, and services to support your AI development journey.\n",
        "\n",
        "**Industries Served**: Agriculture, Finance, EdTech, FinTech, Media, Enterprises, Defense, Drone Tech, and more."
      ]
    },
    {
      "cell_type": "markdown",
      "metadata": {
        "id": "JA-cIUX4-yLi"
      },
      "source": [
        "#What is an Agent in AI?\n",
        "\n",
        "An **agent** is an autonomous entity that perceives its environment, makes decisions, and performs actions to achieve goals.\n",
        "\n",
        "##Components of an Agent\n",
        "- **Perception**: Receives data from the environment (e.g., sensors, APIs, user input).\n",
        "- **Decision Making**: Uses logic, rules, or ML to decide what to do.\n",
        "- **Action**: Executes a command or sends a response.\n",
        "- **Learning (optional)**: Adapts based on feedback.\n",
        "\n",
        "##Agent Lifecycle\n",
        "1. Sense the environment\n",
        "2. Think (decide)\n",
        "3. Act (perform)\n",
        "4. Learn (improve over time)"
      ]
    },
    {
      "cell_type": "markdown",
      "metadata": {
        "id": "1aiQHyHp_F5N"
      },
      "source": [
        "##Tool-Using Agent Frameworks\n",
        "\n",
        "| Framework     | Description                                      | Install Command                          |\n",
        "|---------------|--------------------------------------------------|-------------------------------------------|\n",
        "| **LangChain** | Chains + tools + memory with LLM integration     | `pip install langchain openai`            |\n",
        "| **CrewAI**    | Multi-agent collaboration with roles and tasks   | `pip install crewai`                      |\n",
        "| **LangGraph**| Graph-based agents with control flow                 | `pip install langgraph`                |\n",
        "| **Haystack**  | RAG + agents for document-based Q&A              | `pip install farm-haystack[all]`          |\n"
      ]
    },
    {
      "cell_type": "markdown",
      "metadata": {
        "id": "iXP9KphFdgxm"
      },
      "source": [
        "## **Getting Started with CrewAI**\n",
        "## What is CrewAI?\n",
        "**CrewAI** is a cutting-edge framework for orchestrating role-playing, autonomous AI agents. It enables you to create teams of AI agents that work together to accomplish complex tasks."
      ]
    },
    {
      "cell_type": "markdown",
      "metadata": {
        "id": "P-ss9UqC6RwF"
      },
      "source": [
        "**Why Use CrewAI?**\n",
        "\n",
        " **Specialized Expertise**: Each agent focuses on what they do best\n",
        "\n",
        " **Complex Problem Solving**: Break down big problems into manageable tasks\n",
        "\n",
        " **Quality Assurance**: Multiple agents can review and improve outputs\n",
        "\n",
        " **Scalability**: Easy to add new agents and capabilities\n",
        "\n",
        " **Flexibility**: Adapt to different workflows and use cases"
      ]
    },
    {
      "cell_type": "markdown",
      "metadata": {
        "id": "R6ZJdgBYfKTn"
      },
      "source": [
        "**Install Required Libraries**"
      ]
    },
    {
      "cell_type": "code",
      "execution_count": null,
      "metadata": {
        "colab": {
          "base_uri": "https://localhost:8080/"
        },
        "id": "khcYHAbHfDsL",
        "outputId": "8df43030-5009-496c-8ba8-dac64f000437"
      },
      "outputs": [
        {
          "name": "stdout",
          "output_type": "stream",
          "text": [
            "\u001b[2K     \u001b[90m━━━━━━━━━━━━━━━━━━━━━━━━━━━━━━━━━━━━━━━━\u001b[0m \u001b[32m42.8/42.8 kB\u001b[0m \u001b[31m2.7 MB/s\u001b[0m eta \u001b[36m0:00:00\u001b[0m\n",
            "\u001b[2K     \u001b[90m━━━━━━━━━━━━━━━━━━━━━━━━━━━━━━━━━━━━━━━━\u001b[0m \u001b[32m67.3/67.3 kB\u001b[0m \u001b[31m5.2 MB/s\u001b[0m eta \u001b[36m0:00:00\u001b[0m\n",
            "\u001b[?25h  Installing build dependencies ... \u001b[?25l\u001b[?25hdone\n",
            "  Getting requirements to build wheel ... \u001b[?25l\u001b[?25hdone\n",
            "  Preparing metadata (pyproject.toml) ... \u001b[?25l\u001b[?25hdone\n",
            "\u001b[2K     \u001b[90m━━━━━━━━━━━━━━━━━━━━━━━━━━━━━━━━━━━━━━━━\u001b[0m \u001b[32m48.2/48.2 kB\u001b[0m \u001b[31m1.9 MB/s\u001b[0m eta \u001b[36m0:00:00\u001b[0m\n",
            "\u001b[2K   \u001b[90m━━━━━━━━━━━━━━━━━━━━━━━━━━━━━━━━━━━━━━━━\u001b[0m \u001b[32m324.6/324.6 kB\u001b[0m \u001b[31m20.8 MB/s\u001b[0m eta \u001b[36m0:00:00\u001b[0m\n",
            "\u001b[2K   \u001b[90m━━━━━━━━━━━━━━━━━━━━━━━━━━━━━━━━━━━━━━━━\u001b[0m \u001b[32m8.0/8.0 MB\u001b[0m \u001b[31m122.7 MB/s\u001b[0m eta \u001b[36m0:00:00\u001b[0m\n",
            "\u001b[2K   \u001b[90m━━━━━━━━━━━━━━━━━━━━━━━━━━━━━━━━━━━━━━━━\u001b[0m \u001b[32m16.4/16.4 MB\u001b[0m \u001b[31m113.3 MB/s\u001b[0m eta \u001b[36m0:00:00\u001b[0m\n",
            "\u001b[2K   \u001b[90m━━━━━━━━━━━━━━━━━━━━━━━━━━━━━━━━━━━━━━━━\u001b[0m \u001b[32m138.8/138.8 kB\u001b[0m \u001b[31m13.4 MB/s\u001b[0m eta \u001b[36m0:00:00\u001b[0m\n",
            "\u001b[2K   \u001b[90m━━━━━━━━━━━━━━━━━━━━━━━━━━━━━━━━━━━━━━━━\u001b[0m \u001b[32m19.3/19.3 MB\u001b[0m \u001b[31m112.2 MB/s\u001b[0m eta \u001b[36m0:00:00\u001b[0m\n",
            "\u001b[2K   \u001b[90m━━━━━━━━━━━━━━━━━━━━━━━━━━━━━━━━━━━━━━━━\u001b[0m \u001b[32m94.9/94.9 kB\u001b[0m \u001b[31m9.4 MB/s\u001b[0m eta \u001b[36m0:00:00\u001b[0m\n",
            "\u001b[2K   \u001b[90m━━━━━━━━━━━━━━━━━━━━━━━━━━━━━━━━━━━━━━━━\u001b[0m \u001b[32m94.6/94.6 kB\u001b[0m \u001b[31m9.1 MB/s\u001b[0m eta \u001b[36m0:00:00\u001b[0m\n",
            "\u001b[2K   \u001b[90m━━━━━━━━━━━━━━━━━━━━━━━━━━━━━━━━━━━━━━━━\u001b[0m \u001b[32m65.8/65.8 kB\u001b[0m \u001b[31m6.6 MB/s\u001b[0m eta \u001b[36m0:00:00\u001b[0m\n",
            "\u001b[2K   \u001b[90m━━━━━━━━━━━━━━━━━━━━━━━━━━━━━━━━━━━━━━━━\u001b[0m \u001b[32m55.7/55.7 kB\u001b[0m \u001b[31m5.3 MB/s\u001b[0m eta \u001b[36m0:00:00\u001b[0m\n",
            "\u001b[2K   \u001b[90m━━━━━━━━━━━━━━━━━━━━━━━━━━━━━━━━━━━━━━━━\u001b[0m \u001b[32m118.5/118.5 kB\u001b[0m \u001b[31m12.5 MB/s\u001b[0m eta \u001b[36m0:00:00\u001b[0m\n",
            "\u001b[2K   \u001b[90m━━━━━━━━━━━━━━━━━━━━━━━━━━━━━━━━━━━━━━━━\u001b[0m \u001b[32m196.2/196.2 kB\u001b[0m \u001b[31m20.5 MB/s\u001b[0m eta \u001b[36m0:00:00\u001b[0m\n",
            "\u001b[2K   \u001b[90m━━━━━━━━━━━━━━━━━━━━━━━━━━━━━━━━━━━━━━━━\u001b[0m \u001b[32m60.0/60.0 kB\u001b[0m \u001b[31m5.2 MB/s\u001b[0m eta \u001b[36m0:00:00\u001b[0m\n",
            "\u001b[2K   \u001b[90m━━━━━━━━━━━━━━━━━━━━━━━━━━━━━━━━━━━━━━━━\u001b[0m \u001b[32m5.6/5.6 MB\u001b[0m \u001b[31m124.6 MB/s\u001b[0m eta \u001b[36m0:00:00\u001b[0m\n",
            "\u001b[2K   \u001b[90m━━━━━━━━━━━━━━━━━━━━━━━━━━━━━━━━━━━━━━━━\u001b[0m \u001b[32m756.0/756.0 kB\u001b[0m \u001b[31m57.5 MB/s\u001b[0m eta \u001b[36m0:00:00\u001b[0m\n",
            "\u001b[2K   \u001b[90m━━━━━━━━━━━━━━━━━━━━━━━━━━━━━━━━━━━━━━━━\u001b[0m \u001b[32m236.0/236.0 kB\u001b[0m \u001b[31m23.7 MB/s\u001b[0m eta \u001b[36m0:00:00\u001b[0m\n",
            "\u001b[2K   \u001b[90m━━━━━━━━━━━━━━━━━━━━━━━━━━━━━━━━━━━━━━━━\u001b[0m \u001b[32m17.8/17.8 MB\u001b[0m \u001b[31m35.5 MB/s\u001b[0m eta \u001b[36m0:00:00\u001b[0m\n",
            "\u001b[2K   \u001b[90m━━━━━━━━━━━━━━━━━━━━━━━━━━━━━━━━━━━━━━━━\u001b[0m \u001b[32m284.2/284.2 kB\u001b[0m \u001b[31m25.4 MB/s\u001b[0m eta \u001b[36m0:00:00\u001b[0m\n",
            "\u001b[2K   \u001b[90m━━━━━━━━━━━━━━━━━━━━━━━━━━━━━━━━━━━━━━━━\u001b[0m \u001b[32m345.6/345.6 kB\u001b[0m \u001b[31m30.0 MB/s\u001b[0m eta \u001b[36m0:00:00\u001b[0m\n",
            "\u001b[2K   \u001b[90m━━━━━━━━━━━━━━━━━━━━━━━━━━━━━━━━━━━━━━━━\u001b[0m \u001b[32m1.9/1.9 MB\u001b[0m \u001b[31m87.3 MB/s\u001b[0m eta \u001b[36m0:00:00\u001b[0m\n",
            "\u001b[2K   \u001b[90m━━━━━━━━━━━━━━━━━━━━━━━━━━━━━━━━━━━━━━━━\u001b[0m \u001b[32m101.6/101.6 kB\u001b[0m \u001b[31m10.8 MB/s\u001b[0m eta \u001b[36m0:00:00\u001b[0m\n",
            "\u001b[2K   \u001b[90m━━━━━━━━━━━━━━━━━━━━━━━━━━━━━━━━━━━━━━━━\u001b[0m \u001b[32m103.4/103.4 kB\u001b[0m \u001b[31m11.0 MB/s\u001b[0m eta \u001b[36m0:00:00\u001b[0m\n",
            "\u001b[2K   \u001b[90m━━━━━━━━━━━━━━━━━━━━━━━━━━━━━━━━━━━━━━━━\u001b[0m \u001b[32m2.9/2.9 MB\u001b[0m \u001b[31m109.1 MB/s\u001b[0m eta \u001b[36m0:00:00\u001b[0m\n",
            "\u001b[2K   \u001b[90m━━━━━━━━━━━━━━━━━━━━━━━━━━━━━━━━━━━━━━━━\u001b[0m \u001b[32m46.0/46.0 kB\u001b[0m \u001b[31m4.5 MB/s\u001b[0m eta \u001b[36m0:00:00\u001b[0m\n",
            "\u001b[2K   \u001b[90m━━━━━━━━━━━━━━━━━━━━━━━━━━━━━━━━━━━━━━━━\u001b[0m \u001b[32m459.8/459.8 kB\u001b[0m \u001b[31m34.5 MB/s\u001b[0m eta \u001b[36m0:00:00\u001b[0m\n",
            "\u001b[2K   \u001b[90m━━━━━━━━━━━━━━━━━━━━━━━━━━━━━━━━━━━━━━━━\u001b[0m \u001b[32m86.8/86.8 kB\u001b[0m \u001b[31m9.0 MB/s\u001b[0m eta \u001b[36m0:00:00\u001b[0m\n",
            "\u001b[2K   \u001b[90m━━━━━━━━━━━━━━━━━━━━━━━━━━━━━━━━━━━━━━━━\u001b[0m \u001b[32m1.6/1.6 MB\u001b[0m \u001b[31m78.9 MB/s\u001b[0m eta \u001b[36m0:00:00\u001b[0m\n",
            "\u001b[2K   \u001b[90m━━━━━━━━━━━━━━━━━━━━━━━━━━━━━━━━━━━━━━━━\u001b[0m \u001b[32m71.5/71.5 kB\u001b[0m \u001b[31m7.7 MB/s\u001b[0m eta \u001b[36m0:00:00\u001b[0m\n",
            "\u001b[2K   \u001b[90m━━━━━━━━━━━━━━━━━━━━━━━━━━━━━━━━━━━━━━━━\u001b[0m \u001b[32m4.0/4.0 MB\u001b[0m \u001b[31m111.7 MB/s\u001b[0m eta \u001b[36m0:00:00\u001b[0m\n",
            "\u001b[2K   \u001b[90m━━━━━━━━━━━━━━━━━━━━━━━━━━━━━━━━━━━━━━━━\u001b[0m \u001b[32m453.1/453.1 kB\u001b[0m \u001b[31m39.8 MB/s\u001b[0m eta \u001b[36m0:00:00\u001b[0m\n",
            "\u001b[?25h  Building wheel for pypika (pyproject.toml) ... \u001b[?25l\u001b[?25hdone\n"
          ]
        }
      ],
      "source": [
        "%pip install -q crewai"
      ]
    },
    {
      "cell_type": "markdown",
      "metadata": {
        "id": "iuijiWks6RwG"
      },
      "source": [
        "**1. What is an LLM (Large Language Model)?**\n",
        "\n",
        "An LLM is the \"brain\" that powers your AI agents. It's a machine learning model\n",
        "trained on vast amounts of text data to understand and generate human-like text.\n",
        "\n",
        "**Popular LLMs:**\n",
        "- GPT-4, GPT-3.5 (OpenAI)\n",
        "- Claude (Anthropic)\n",
        "- Gemini (Google)\n",
        "- Custom models via Nexus AI\n",
        "\n",
        "**LLM Parameters:**\n",
        "- `temperature`: Controls creativity (0.0 = deterministic, 1.0 = very creative)\n",
        "- `max_tokens`: Maximum response length\n",
        "- `top_p`: Controls diversity of word selection"
      ]
    },
    {
      "cell_type": "markdown",
      "metadata": {
        "id": "KwYPp9UafToU"
      },
      "source": [
        "## 🔧 Importing Required Modules\n",
        "\n",
        "We begin by importing the core components of **CrewAI**:\n",
        "\n",
        "- `LLM`: Defines the language model to be used.\n",
        "- `Agent`: Represents the individual AI worker (e.g., summarizer).\n",
        "- `Task`: Describes what the agent is supposed to do.\n",
        "- `Crew`: Coordinates the agent(s) and task(s) into a workflow.\n"
      ]
    },
    {
      "cell_type": "code",
      "execution_count": null,
      "metadata": {
        "id": "E-_Ne59zdZgu"
      },
      "outputs": [],
      "source": [
        "from crewai import LLM, Agent, Task, Crew"
      ]
    },
    {
      "cell_type": "markdown",
      "metadata": {
        "id": "GgRLmLDbfZt7"
      },
      "source": [
        "# Setup Nexus credentials"
      ]
    },
    {
      "cell_type": "code",
      "execution_count": null,
      "metadata": {
        "id": "9fooy3SUe5-_"
      },
      "outputs": [],
      "source": [
        "llm = LLM(\n",
        "    model=\"gpt-4.1-nano\",  # Nexus LLM model\n",
        "    temperature=0.7,\n",
        "    base_url=\"https://apidev.navigatelabsai.com\",  # Nexus base URL\n",
        "    api_key=\"your-nexus-api-key\"  # Replace with your valid API key\n",
        ")"
      ]
    },
    {
      "cell_type": "markdown",
      "metadata": {
        "id": "AR0aCzqWhIyG"
      },
      "source": [
        "\n",
        "# Define a basic CrewAI agent\n",
        "\n",
        "**2. What is an Agent?**\n",
        "\n",
        "An Agent is an AI entity with:\n",
        "- **Role**: What job they do (e.g., \"Research Analyst\", \"Content Writer\")\n",
        "- **Goal**: What they're trying to achieve\n",
        "- **Backstory**: Their experience and expertise\n",
        "- **Tools**: External capabilities they can use\n",
        "- **LLM**: The language model that powers their thinking"
      ]
    },
    {
      "cell_type": "code",
      "execution_count": null,
      "metadata": {
        "id": "C3PB0S0qfbpN"
      },
      "outputs": [],
      "source": [
        "agent = Agent(\n",
        "    role=\"AI Topic Summarizer\",\n",
        "    goal=\"Provide clear and concise summaries of AI topics\",\n",
        "    backstory=\"An assistant that helps summarize complex AI topics for better understanding.\",\n",
        "    llm=llm,\n",
        "    verbose=True\n",
        ")"
      ]
    },
    {
      "cell_type": "code",
      "execution_count": null,
      "metadata": {
        "colab": {
          "base_uri": "https://localhost:8080/"
        },
        "id": "gUXx2XFG-cFk",
        "outputId": "b89150df-ef1d-494a-f42d-fd7da1dde3da"
      },
      "outputs": [
        {
          "name": "stdout",
          "output_type": "stream",
          "text": [
            "Enter the AI topic you want summarized: ML\n"
          ]
        }
      ],
      "source": [
        "topic = input(\"Enter the AI topic you want summarized: \")"
      ]
    },
    {
      "cell_type": "markdown",
      "metadata": {
        "id": "DXot4cIthSce"
      },
      "source": [
        "# Assign a task to the agent\n",
        "\n",
        "A Task defines:\n",
        "- **Description**: What needs to be done\n",
        "- **Expected Output**: What the result should look like\n",
        "- **Agent**: Who will do the work\n",
        "- **Dependencies**: What other tasks must complete first"
      ]
    },
    {
      "cell_type": "code",
      "execution_count": null,
      "metadata": {
        "id": "cA4LQ3RfhNc0"
      },
      "outputs": [],
      "source": [
        "task = Task(\n",
        "    description=f\"Summarize the topic: '{topic}' in a clear and structured way for exam preparation.\",\n",
        "    expected_output=\"A 5-7 sentence summary that explains the key points simply.\",\n",
        "    agent=agent\n",
        ")"
      ]
    },
    {
      "cell_type": "markdown",
      "metadata": {
        "id": "vkXaOKSqhb4c"
      },
      "source": [
        "# Create the crew and execute\n",
        "A Crew orchestrates:\n",
        "- **Agents**: The team members\n",
        "- **Tasks**: The work to be done\n",
        "- **Process**: How tasks are executed (sequential, parallel, hierarchical)\n",
        "- **Memory**: Shared knowledge between agents\n",
        "\"\"\""
      ]
    },
    {
      "cell_type": "code",
      "execution_count": null,
      "metadata": {
        "colab": {
          "base_uri": "https://localhost:8080/"
        },
        "id": "YRFy86SshYYM",
        "outputId": "d1e17060-5311-4889-d414-438def6fbe3d"
      },
      "outputs": [
        {
          "name": "stdout",
          "output_type": "stream",
          "text": [
            "\u001b[1m\u001b[95m# Agent:\u001b[00m \u001b[1m\u001b[92mAI Topic Summarizer\u001b[00m\n",
            "\u001b[95m## Task:\u001b[00m \u001b[92mSummarize the topic: 'ML' in a clear and structured way for exam preparation.\u001b[00m\n",
            "\n",
            "\n",
            "\u001b[1m\u001b[95m# Agent:\u001b[00m \u001b[1m\u001b[92mAI Topic Summarizer\u001b[00m\n",
            "\u001b[95m## Final Answer:\u001b[00m \u001b[92m\n",
            "Machine Learning (ML) is a subset of artificial intelligence that enables computers to learn from data and improve their performance over time without being explicitly programmed. It involves algorithms that identify patterns and make predictions or decisions based on large datasets. Common types of ML include supervised learning, where models are trained on labeled data; unsupervised learning, which finds patterns in unlabeled data; and reinforcement learning, where models learn through trial and error to maximize rewards. ML is widely used in applications like image recognition, natural language processing, recommendation systems, and autonomous vehicles. The effectiveness of ML depends on the quality and quantity of data, as well as the choice of algorithms and models. Understanding ML is essential for developing intelligent systems that can adapt and solve complex real-world problems.\u001b[00m\n",
            "\n",
            "\n",
            "\n",
            "📝 Summary:\n",
            " Machine Learning (ML) is a subset of artificial intelligence that enables computers to learn from data and improve their performance over time without being explicitly programmed. It involves algorithms that identify patterns and make predictions or decisions based on large datasets. Common types of ML include supervised learning, where models are trained on labeled data; unsupervised learning, which finds patterns in unlabeled data; and reinforcement learning, where models learn through trial and error to maximize rewards. ML is widely used in applications like image recognition, natural language processing, recommendation systems, and autonomous vehicles. The effectiveness of ML depends on the quality and quantity of data, as well as the choice of algorithms and models. Understanding ML is essential for developing intelligent systems that can adapt and solve complex real-world problems.\n"
          ]
        }
      ],
      "source": [
        "# Create and run the crew\n",
        "crew = Crew(tasks=[task])\n",
        "result = crew.kickoff()\n",
        "\n",
        "# Print the summary\n",
        "print(\"\\n📝 Summary:\\n\", result)"
      ]
    }
  ],
  "metadata": {
    "accelerator": "GPU",
    "colab": {
      "gpuType": "T4",
      "provenance": [],
      "include_colab_link": true
    },
    "kernelspec": {
      "display_name": "Python 3",
      "name": "python3"
    },
    "language_info": {
      "name": "python",
      "version": "3.12.11"
    }
  },
  "nbformat": 4,
  "nbformat_minor": 0
}